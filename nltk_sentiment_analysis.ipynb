{
 "cells": [
  {
   "cell_type": "code",
   "execution_count": 3,
   "id": "bce40aea-be72-404d-8ed2-24576368a0ba",
   "metadata": {},
   "outputs": [],
   "source": [
    "import codecs\n",
    "from deep_translator import GoogleTranslator\n",
    "from vaderSentiment.vaderSentiment import SentimentIntensityAnalyzer"
   ]
  },
  {
   "cell_type": "code",
   "execution_count": 4,
   "id": "03b6cc3b-9ab3-4776-aafe-a942ac9545a8",
   "metadata": {},
   "outputs": [],
   "source": [
    "#Read the hindi text into sentences\n",
    "with codecs.open('SampleHindiText.txt',encoding=\"utf-8\") as f:\n",
    "    sentences=f.readlines()"
   ]
  },
  {
   "cell_type": "code",
   "execution_count": 6,
   "id": "778c841f-5f86-4778-8fd4-3fb628bb5604",
   "metadata": {},
   "outputs": [
    {
     "name": "stdout",
     "output_type": "stream",
     "text": [
      "Truth is the victory\n",
      "Knowledge makes a person humble\n",
      "Labor is victorious\n",
      "Do deeds, don't worry about fruit\n",
      "The journey to Goa was very good.\n",
      "The beaches were very hot.\n",
      "I enjoyed playing on the beach.\n",
      "My daughter was very angry.\n",
      "\n",
      "Translated Sentence= My daughter was very angry. \n",
      "Dictionary= {'neg': 0.0, 'neu': 0.566, 'pos': 0.434, 'compound': 0.3182}\n",
      "It is a Positive Sentence\n"
     ]
    }
   ],
   "source": [
    "for sentence in sentences:\n",
    "    translated_text=GoogleTranslator(source='auto',target='en').translate(sentence)\n",
    "    print(translated_text)\n",
    "analyzer=SentimentIntensityAnalyzer()\n",
    "sentiment_dict=analyzer.polarity_scores(tranlated_text)\n",
    "print(\"\\nTranslated Sentence=\",translated_text,\"\\nDictionary=\",sentiment_dict)\n",
    "if sentiment_dict['compound'] >=0.05 :\n",
    "    print(\"It is a Positive Sentence\")\n",
    "\n",
    "elif sentiment_dict['compound'] <=0.05 :\n",
    "    print(\"It is a Negative Sentence\")\n",
    "else:\n",
    "    print(\"It is a Natural Sentence\")"
   ]
  },
  {
   "cell_type": "code",
   "execution_count": null,
   "id": "f0fdf9f1-b28b-451d-80ba-6f94ecb5c69e",
   "metadata": {},
   "outputs": [],
   "source": []
  }
 ],
 "metadata": {
  "kernelspec": {
   "display_name": "Python 3 (ipykernel)",
   "language": "python",
   "name": "python3"
  },
  "language_info": {
   "codemirror_mode": {
    "name": "ipython",
    "version": 3
   },
   "file_extension": ".py",
   "mimetype": "text/x-python",
   "name": "python",
   "nbconvert_exporter": "python",
   "pygments_lexer": "ipython3",
   "version": "3.11.0"
  }
 },
 "nbformat": 4,
 "nbformat_minor": 5
}
