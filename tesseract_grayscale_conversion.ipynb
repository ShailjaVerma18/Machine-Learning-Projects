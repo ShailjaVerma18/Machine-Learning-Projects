{
 "cells": [
  {
   "cell_type": "code",
   "execution_count": 1,
   "id": "ea7c7183-a9b4-4dcf-9d0c-f3ce71a30343",
   "metadata": {},
   "outputs": [],
   "source": [
    "#importing Libraries\n",
    "import cv2"
   ]
  },
  {
   "cell_type": "code",
   "execution_count": 7,
   "id": "411c0240-a0df-409a-b06f-026fab4d4136",
   "metadata": {},
   "outputs": [],
   "source": [
    "# Read an image\n",
    "img = cv2.imread('Image2.jpeg')"
   ]
  },
  {
   "cell_type": "code",
   "execution_count": null,
   "id": "61efc035-5347-44c5-9157-c0fd0e13c040",
   "metadata": {},
   "outputs": [],
   "source": [
    "#Convert to grayscale\n",
    "gray_img=cv2.cvtColor(img,cv2.COLOR_BGR2GRAY)\n",
    "\n",
    "\n",
    "#Show the Grayscale Image\n",
    "cv2.imshow('Grayscale Image',gray_img)\n",
    "cv2.waitKey(0)\n",
    "cv2.destroyAllWindows()"
   ]
  },
  {
   "cell_type": "raw",
   "id": "1419e593-7829-44c1-a96c-4b0d0d46fdaf",
   "metadata": {},
   "source": []
  },
  {
   "cell_type": "code",
   "execution_count": null,
   "id": "f9daa810-338c-4819-abbf-5cedcd033a46",
   "metadata": {},
   "outputs": [],
   "source": []
  }
 ],
 "metadata": {
  "kernelspec": {
   "display_name": "Python 3 (ipykernel)",
   "language": "python",
   "name": "python3"
  },
  "language_info": {
   "codemirror_mode": {
    "name": "ipython",
    "version": 3
   },
   "file_extension": ".py",
   "mimetype": "text/x-python",
   "name": "python",
   "nbconvert_exporter": "python",
   "pygments_lexer": "ipython3",
   "version": "3.11.0"
  }
 },
 "nbformat": 4,
 "nbformat_minor": 5
}
